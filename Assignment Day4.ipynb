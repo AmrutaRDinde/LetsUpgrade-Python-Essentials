{
 "cells": [
  {
   "cell_type": "code",
   "execution_count": 1,
   "metadata": {},
   "outputs": [],
   "source": [
    "# Print first armstrong number in the range of 1042000 to 702648265 and \n",
    "# exit the loop as soon as you encounter the first armstrong number "
   ]
  },
  {
   "cell_type": "code",
   "execution_count": 9,
   "metadata": {},
   "outputs": [
    {
     "name": "stdout",
     "output_type": "stream",
     "text": [
      "Enter a number -> 153\n",
      "15\n",
      "1\n",
      "0\n",
      "Entered number is armstrong number\n"
     ]
    }
   ],
   "source": [
    "num = input(\"Enter a number -> \")\n",
    "num = int(num)\n",
    "temp = num\n",
    "sum1 = 0\n",
    "while temp != 0:\n",
    "    rem = int(temp)%10\n",
    "    sum1 = sum1 + (rem * rem* rem)\n",
    "    temp1 = temp/10\n",
    "    temp = int(temp1)\n",
    "if num == sum1:\n",
    "    print(\"Entered number is armstrong number\")"
   ]
  },
  {
   "cell_type": "code",
   "execution_count": 3,
   "metadata": {},
   "outputs": [
    {
     "name": "stdout",
     "output_type": "stream",
     "text": [
      "370 is first prime number in range  200 to 400\n"
     ]
    }
   ],
   "source": [
    "start = 200\n",
    "end = 400\n",
    "num = start\n",
    "while num <= end:\n",
    "    temp = num\n",
    "    sum1 = 0\n",
    "    while temp != 0:\n",
    "        rem = int(temp)%10\n",
    "        sum1 += rem**3\n",
    "        #sum1 += rem*rem*rem\n",
    "        temp1 = temp/10\n",
    "        temp = int(temp1)\n",
    "    if num == sum1:\n",
    "        print(num, \"is first prime number in range \",start, \"to\", end)\n",
    "        break\n",
    "    num +=1"
   ]
  },
  {
   "cell_type": "code",
   "execution_count": null,
   "metadata": {},
   "outputs": [],
   "source": []
  }
 ],
 "metadata": {
  "kernelspec": {
   "display_name": "Python 3",
   "language": "python",
   "name": "python3"
  },
  "language_info": {
   "codemirror_mode": {
    "name": "ipython",
    "version": 3
   },
   "file_extension": ".py",
   "mimetype": "text/x-python",
   "name": "python",
   "nbconvert_exporter": "python",
   "pygments_lexer": "ipython3",
   "version": "3.8.3"
  }
 },
 "nbformat": 4,
 "nbformat_minor": 4
}
