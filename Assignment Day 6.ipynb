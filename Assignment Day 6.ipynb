{
 "cells": [
  {
   "cell_type": "markdown",
   "metadata": {},
   "source": [
    "1. Create a bank account class that has 2 attributes - Owner name, balance\n",
    "   and 2 methods - deposit, withdraw. As an added requirement, withdrawls may not exceed the available balance.\n",
    "   Initiate your class, make several deposits and withdrawls and tets to make sure that the account can not be overdrawn"
   ]
  },
  {
   "cell_type": "code",
   "execution_count": 1,
   "metadata": {},
   "outputs": [],
   "source": [
    "class bank_balance():\n",
    "    def __init__(self,name,balance):\n",
    "        self.name = name\n",
    "        self.balance = balance\n",
    "        \n",
    "    def deposit(self,rupee):\n",
    "        self.rupee = rupee\n",
    "        self.balance += self.rupee \n",
    "        return self.balance\n",
    "    \n",
    "    def withdrawl(self,withdraw_amt):\n",
    "        self.withdraw_amt = withdraw_amt\n",
    "        if self.balance - self.withdraw_amt < 1000:\n",
    "            print(\"You can not withdraw money from your account\")\n",
    "        else:\n",
    "            self.balance -= self.withdraw_amt\n",
    "            print(\"Your current balance is: \")\n",
    "            return self.balance \n",
    "        \n",
    "        "
   ]
  },
  {
   "cell_type": "code",
   "execution_count": 2,
   "metadata": {},
   "outputs": [],
   "source": [
    "my_balance = bank_balance(\"Amruta\",4500)"
   ]
  },
  {
   "cell_type": "code",
   "execution_count": 3,
   "metadata": {},
   "outputs": [
    {
     "data": {
      "text/plain": [
       "9500"
      ]
     },
     "execution_count": 3,
     "metadata": {},
     "output_type": "execute_result"
    }
   ],
   "source": [
    "my_balance.deposit(5000)"
   ]
  },
  {
   "cell_type": "code",
   "execution_count": 4,
   "metadata": {},
   "outputs": [
    {
     "data": {
      "text/plain": [
       "14500"
      ]
     },
     "execution_count": 4,
     "metadata": {},
     "output_type": "execute_result"
    }
   ],
   "source": [
    "my_balance.deposit(5000)"
   ]
  },
  {
   "cell_type": "code",
   "execution_count": 5,
   "metadata": {},
   "outputs": [
    {
     "name": "stdout",
     "output_type": "stream",
     "text": [
      "Your current balance is: \n"
     ]
    },
    {
     "data": {
      "text/plain": [
       "4500"
      ]
     },
     "execution_count": 5,
     "metadata": {},
     "output_type": "execute_result"
    }
   ],
   "source": [
    "my_balance.withdrawl(10000)"
   ]
  },
  {
   "cell_type": "code",
   "execution_count": 7,
   "metadata": {},
   "outputs": [
    {
     "name": "stdout",
     "output_type": "stream",
     "text": [
      "Your current balance is: \n"
     ]
    },
    {
     "data": {
      "text/plain": [
       "1500"
      ]
     },
     "execution_count": 7,
     "metadata": {},
     "output_type": "execute_result"
    }
   ],
   "source": [
    "my_balance.withdrawl(3000)"
   ]
  },
  {
   "cell_type": "code",
   "execution_count": 10,
   "metadata": {},
   "outputs": [
    {
     "name": "stdout",
     "output_type": "stream",
     "text": [
      "You can not withdraw money from your account\n"
     ]
    }
   ],
   "source": [
    "my_balance.withdrawl(1500)"
   ]
  },
  {
   "cell_type": "markdown",
   "metadata": {},
   "source": [
    "2. Create cone class that has two attribues radius = r and height = h and two methods\n",
    "   volume = pi * r2 * (h/3)\n",
    "   surface area,\n",
    "   base = pi * r2       side = pi * r * sqrt(r2 + h2)"
   ]
  },
  {
   "cell_type": "code",
   "execution_count": 26,
   "metadata": {},
   "outputs": [],
   "source": [
    "import math\n",
    "pi = math.pi\n",
    "class cone():\n",
    "    def __init__(self,r,h):\n",
    "        self.r = r\n",
    "        self.h = h\n",
    "        \n",
    "    def cone_volume(self):\n",
    "        #volume = 3.14 * self.r**2 * self.h/3\n",
    "        print(\"Volume of cone = \", pi * self.r*self.r * self.h/3)\n",
    "        \n",
    "    def cone_surface_area(self):\n",
    "        print(\"Base area of cone = \", pi*self.r**2)\n",
    "        print(\"Side area of cone = \", pi*self.r*math.sqrt(self.r**2 + self.h**2))"
   ]
  },
  {
   "cell_type": "code",
   "execution_count": 17,
   "metadata": {},
   "outputs": [],
   "source": [
    "volume = cone(5, 4)"
   ]
  },
  {
   "cell_type": "code",
   "execution_count": 18,
   "metadata": {},
   "outputs": [
    {
     "name": "stdout",
     "output_type": "stream",
     "text": [
      "Volume of cone =  104.71975511965978\n"
     ]
    }
   ],
   "source": [
    "volume.cone_volume()"
   ]
  },
  {
   "cell_type": "code",
   "execution_count": 27,
   "metadata": {},
   "outputs": [],
   "source": [
    "surface_area = cone(5,4)"
   ]
  },
  {
   "cell_type": "code",
   "execution_count": 28,
   "metadata": {},
   "outputs": [
    {
     "name": "stdout",
     "output_type": "stream",
     "text": [
      "Base area of cone =  78.53981633974483\n",
      "Side area of cone =  100.58004032170892\n"
     ]
    }
   ],
   "source": [
    "surface_area.cone_surface_area()"
   ]
  },
  {
   "cell_type": "code",
   "execution_count": null,
   "metadata": {},
   "outputs": [],
   "source": []
  },
  {
   "cell_type": "code",
   "execution_count": null,
   "metadata": {},
   "outputs": [],
   "source": []
  },
  {
   "cell_type": "code",
   "execution_count": null,
   "metadata": {},
   "outputs": [],
   "source": []
  }
 ],
 "metadata": {
  "kernelspec": {
   "display_name": "Python 3",
   "language": "python",
   "name": "python3"
  },
  "language_info": {
   "codemirror_mode": {
    "name": "ipython",
    "version": 3
   },
   "file_extension": ".py",
   "mimetype": "text/x-python",
   "name": "python",
   "nbconvert_exporter": "python",
   "pygments_lexer": "ipython3",
   "version": "3.8.3"
  }
 },
 "nbformat": 4,
 "nbformat_minor": 4
}
