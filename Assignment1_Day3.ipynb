{
 "cells": [
  {
   "cell_type": "code",
   "execution_count": null,
   "metadata": {},
   "outputs": [],
   "source": [
    "# You have to land plane, altitude required for landing is 1000ft.\n",
    "# If altitude is less than that, tell pilot to land the plane.\n",
    "# If altitude is greater than 1000ft but less than 5000ft, tell pilot to bring down plane to 1000ft.\n",
    "# If altitude is greater than 5000ft, tell pilot Go around and come later"
   ]
  },
  {
   "cell_type": "code",
   "execution_count": 3,
   "metadata": {},
   "outputs": [
    {
     "name": "stdout",
     "output_type": "stream",
     "text": [
      "Enter altitude-->9000\n",
      "Go around and come later\n"
     ]
    }
   ],
   "source": [
    "altitude = input(\"Enter altitude-->\")\n",
    "altitude = int(altitude)\n",
    "if altitude <= 1000:\n",
    "    print(\"It is safe to land\")\n",
    "elif altitude > 1000 and altitude <= 5000:\n",
    "    print(\"Bring down plane to 1000ft.\")\n",
    "else:\n",
    "    print(\"Go around and come later\")"
   ]
  },
  {
   "cell_type": "code",
   "execution_count": null,
   "metadata": {},
   "outputs": [],
   "source": []
  }
 ],
 "metadata": {
  "kernelspec": {
   "display_name": "Python 3",
   "language": "python",
   "name": "python3"
  },
  "language_info": {
   "codemirror_mode": {
    "name": "ipython",
    "version": 3
   },
   "file_extension": ".py",
   "mimetype": "text/x-python",
   "name": "python",
   "nbconvert_exporter": "python",
   "pygments_lexer": "ipython3",
   "version": "3.8.3"
  }
 },
 "nbformat": 4,
 "nbformat_minor": 4
}
