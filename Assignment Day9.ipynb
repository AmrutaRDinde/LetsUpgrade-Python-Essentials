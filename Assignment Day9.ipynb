{
 "cells": [
  {
   "cell_type": "markdown",
   "metadata": {},
   "source": [
    "1. Write a python function for finding is a given number prime or not and do \n",
    "the unit testing on it using pylint and unittest librarie"
   ]
  },
  {
   "cell_type": "code",
   "execution_count": 10,
   "metadata": {},
   "outputs": [
    {
     "name": "stdout",
     "output_type": "stream",
     "text": [
      "Overwriting prime_number.py\n"
     ]
    }
   ],
   "source": [
    "%%writefile prime_number.py\n",
    "'''\n",
    "This is code to find entered number is prime number or not\n",
    "'''\n",
    "num = input(\"Enter a number\")\n",
    "num = int(num)\n",
    "if num > 1:\n",
    "    for i in range(2, num):\n",
    "        if num%i == 0:\n",
    "            print(num, \"is composite number\")\n",
    "            break\n",
    "    else:\n",
    "        print(num, \"is prime number\") \n",
    "else:\n",
    "    print(num, \"is composite number\")"
   ]
  },
  {
   "cell_type": "code",
   "execution_count": 11,
   "metadata": {},
   "outputs": [
    {
     "name": "stdout",
     "output_type": "stream",
     "text": [
      "************* Module prime_number\n",
      "prime_number.py:12:37: C0303: Trailing whitespace (trailing-whitespace)\n",
      "\n",
      "------------------------------------------------------------------\n",
      "\n",
      "Your code has been rated at 8.89/10 (previous run: 7.78/10, +1.11)\n",
      "\n",
      "\n",
      "\n"
     ]
    }
   ],
   "source": [
    "! pylint prime_number.py"
   ]
  },
  {
   "cell_type": "code",
   "execution_count": null,
   "metadata": {},
   "outputs": [],
   "source": []
  },
  {
   "cell_type": "code",
   "execution_count": 16,
   "metadata": {},
   "outputs": [
    {
     "name": "stdout",
     "output_type": "stream",
     "text": [
      "Overwriting check_prime_number.py\n"
     ]
    }
   ],
   "source": [
    "%%writefile check_prime_number.py\n",
    "def toGetPrimeNumber(num):\n",
    "    if num > 1:\n",
    "        for i in range(2, num):\n",
    "            if num%i == 0:\n",
    "                print(num, \"is composite number\")\n",
    "                return \"composite number\"\n",
    "                #break\n",
    "        else:\n",
    "            print(num, \"is prime number\")\n",
    "            return \"prime number\"\n",
    "    else:\n",
    "        print(num, \"is composite number\")\n",
    "        return \"composite number\""
   ]
  },
  {
   "cell_type": "code",
   "execution_count": 18,
   "metadata": {},
   "outputs": [
    {
     "name": "stdout",
     "output_type": "stream",
     "text": [
      "4 is composite number\n"
     ]
    }
   ],
   "source": [
    "import check_prime_number\n",
    "check_prime_number.toGetPrimeNumber(4)"
   ]
  },
  {
   "cell_type": "code",
   "execution_count": 22,
   "metadata": {},
   "outputs": [
    {
     "name": "stdout",
     "output_type": "stream",
     "text": [
      "Overwriting testPrimeNumber.py\n"
     ]
    }
   ],
   "source": [
    "%%writefile testPrimeNumber.py\n",
    "import unittest\n",
    "import check_prime_number\n",
    "class primeNumber(unittest.TestCase):\n",
    "    def testPrimeNum(self):\n",
    "        num = 5\n",
    "        result = check_prime_number.toGetPrimeNumber(num)\n",
    "        self.assertEqual(result,\"prime number\")\n",
    "if __name__ == \"__main__\":\n",
    "    unittest.main()\n"
   ]
  },
  {
   "cell_type": "code",
   "execution_count": 23,
   "metadata": {},
   "outputs": [
    {
     "name": "stderr",
     "output_type": "stream",
     "text": [
      ".\n",
      "----------------------------------------------------------------------\n",
      "Ran 1 test in 0.000s\n",
      "\n",
      "OK\n"
     ]
    },
    {
     "name": "stdout",
     "output_type": "stream",
     "text": [
      "5 is prime number\n"
     ]
    }
   ],
   "source": [
    "! python testPrimeNumber.py"
   ]
  },
  {
   "cell_type": "code",
   "execution_count": 47,
   "metadata": {},
   "outputs": [
    {
     "data": {
      "text/plain": [
       "False"
      ]
     },
     "execution_count": 47,
     "metadata": {},
     "output_type": "execute_result"
    }
   ],
   "source": [
    "str1 = '''\n",
    "This is code to find entered number is prime number or not\n",
    "'''\n",
    "str1.isspace()"
   ]
  },
  {
   "cell_type": "markdown",
   "metadata": {},
   "source": [
    "2. Make small generator program for returning armstrong numbers between 1-1000 in generator object "
   ]
  },
  {
   "cell_type": "code",
   "execution_count": 7,
   "metadata": {},
   "outputs": [
    {
     "name": "stdout",
     "output_type": "stream",
     "text": [
      "[1, 153, 370, 371, 407]\n"
     ]
    }
   ],
   "source": [
    "def getArmstrongNumber(lst):\n",
    "    for i in lst:\n",
    "        temp_num = i\n",
    "        sum = 0\n",
    "        while temp_num != 0:\n",
    "            rem = temp_num%10\n",
    "            sum += rem**3\n",
    "            temp_num = int(temp_num/10)\n",
    "        if i == sum:\n",
    "            yield i\n",
    "            \n",
    "            \n",
    "            \n",
    "lst = range(1,1000)\n",
    "lst1 = []\n",
    "lst1 = getArmstrongNumber(lst)\n",
    "print(list(lst1))"
   ]
  }
 ],
 "metadata": {
  "kernelspec": {
   "display_name": "Python 3",
   "language": "python",
   "name": "python3"
  },
  "language_info": {
   "codemirror_mode": {
    "name": "ipython",
    "version": 3
   },
   "file_extension": ".py",
   "mimetype": "text/x-python",
   "name": "python",
   "nbconvert_exporter": "python",
   "pygments_lexer": "ipython3",
   "version": "3.8.3"
  }
 },
 "nbformat": 4,
 "nbformat_minor": 4
}
